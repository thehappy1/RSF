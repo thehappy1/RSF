{
 "cells": [
  {
   "cell_type": "code",
   "execution_count": 3,
   "metadata": {},
   "outputs": [],
   "source": [
    "import pandas as pd\n",
    "import xgboost as xgb\n",
    "import pandas as pd\n",
    "import numpy as np\n",
    "import logging\n",
    "#from app.core.config import DATA_PATH, MODEL_PATH"
   ]
  },
  {
   "cell_type": "code",
   "execution_count": 11,
   "metadata": {},
   "outputs": [],
   "source": [
    "MODEL_PATH=\"xgboost_final.json\"\n",
    "DATA_PATH=\"final_df_w_fe.csv\""
   ]
  },
  {
   "cell_type": "code",
   "execution_count": 12,
   "metadata": {},
   "outputs": [],
   "source": [
    "logger = logging.getLogger(__name__)\n",
    "\n",
    "def load_data(path):\n",
    "    try:\n",
    "        df = pd.read_csv(path, low_memory=False)\n",
    "        df = df.drop(columns='Unnamed: 0')\n",
    "        df['Date'] = pd.to_datetime(df['Date'])\n",
    "        df = df.sort_values(by='Date')\n",
    "        logger.info('Daten erfolgreich geladen')\n",
    "        return df\n",
    "    except Exception as e:\n",
    "        logger.error(f'Data Loading fehlgeschlagen: {e}')\n",
    "        return None\n",
    "\n",
    "def create_holdout_set(dataframe, feature_list, anzahl_wochen, get_dates=False):\n",
    "    try:\n",
    "        train_list = []\n",
    "        test_list = []\n",
    "\n",
    "        dataframe = dataframe[feature_list]\n",
    "        dataframe = dataframe[dataframe[\"Open\"] != 0]\n",
    "        dataframe = dataframe[dataframe[\"Sales\"] > 0]\n",
    "        dataframe = dataframe.sort_values(by=['Store', 'Date'])\n",
    "        grouped = dataframe.groupby('Store')\n",
    "\n",
    "        for store_id, group in grouped:\n",
    "            train_list.append(group[:-7*anzahl_wochen])\n",
    "            test_list.append(group[-7*anzahl_wochen:])\n",
    "\n",
    "        train = pd.concat(train_list)\n",
    "        test = pd.concat(test_list)\n",
    "\n",
    "        if get_dates: \n",
    "            train_dates = train.Date\n",
    "            test_dates = test.Date \n",
    "\n",
    "        y_train = np.log1p(train['Sales'])\n",
    "        X_train = train.drop(columns=['Sales', 'Open'])\n",
    "        y_test = np.log1p(test['Sales'])  \n",
    "        X_test = test.drop(columns=['Sales', 'Open', 'Date'])\n",
    "\n",
    "        if get_dates:\n",
    "            return X_train, y_train, X_test, y_test, train_dates, test_dates\n",
    "        else:\n",
    "            return X_train, y_train, X_test, y_test\n",
    "    except Exception as e:\n",
    "        logger.error(f'Fehler beim Erstellen des Holdout-Sets: {e}')\n",
    "        return None, None, None, None, None, None\n",
    "\n",
    "def load_model():\n",
    "    try:\n",
    "        model = xgb.Booster()\n",
    "        model.load_model(MODEL_PATH)\n",
    "        logger.info('XGBoost Model erfolgreich geladen')\n",
    "        print('XGBoost Model erfolgreich geladen')\n",
    "        return model\n",
    "    except Exception as e:\n",
    "        logger.error(f'XGBoost Model konnte nicht geladen werden: {e}')\n",
    "        return None\n",
    "\n",
    "def get_predictions(model, store_id, forecast_horizon):\n",
    "    try:\n",
    "        df = load_data(DATA_PATH)\n",
    "        if df is None:\n",
    "            raise ValueError(\"Daten konnten nicht geladen werden\")\n",
    "\n",
    "        feature_group = ['Date', 'Store', 'AvgLastMonthSales', 'AvgLastYearSales', 'AvgPromoSales', 'AvgHolidaySales', 'Open', 'Sales', 'Day', 'Month', 'DayOfWeek', 'WeekOfYear', 'Promo', 'StateHoliday', 'SchoolHoliday', 'CompetitionDistance', 'MonthsSinceCompetitionOpen', 'PromoWeeks', 'Assortment', 'StoreType']\n",
    "        X_train, y_train, X_test, y_test, train_dates, test_dates = create_holdout_set(df, feature_group, anzahl_wochen=6, get_dates=True)\n",
    "        \n",
    "        store_data = X_test[X_test['Store'] == store_id]\n",
    "        dmatrix = xgb.DMatrix(store_data, enable_categorical=True)\n",
    "        prediction = model.predict(dmatrix)\n",
    "\n",
    "        return np.expm1(prediction).tolist()\n",
    "    except Exception as e:\n",
    "        logger.error(f'Fehler bei der Vorhersage: {e}')\n",
    "        return []\n"
   ]
  },
  {
   "cell_type": "code",
   "execution_count": 17,
   "metadata": {},
   "outputs": [],
   "source": [
    "df = load_data(DATA_PATH)\n",
    "feature_group = ['Date', 'Store', 'AvgLastMonthSales', 'AvgLastYearSales', 'AvgPromoSales', 'AvgHolidaySales', 'Open', 'Sales', 'Day', 'Month', 'DayOfWeek', 'WeekOfYear', 'Promo', 'StateHoliday', 'SchoolHoliday', 'CompetitionDistance', 'MonthsSinceCompetitionOpen', 'PromoWeeks', 'Assortment', 'StoreType']"
   ]
  },
  {
   "cell_type": "code",
   "execution_count": 18,
   "metadata": {},
   "outputs": [],
   "source": [
    "X_train, y_train, X_test, y_test, train_dates, test_dates = create_holdout_set(df, feature_group, anzahl_wochen=6, get_dates=True)"
   ]
  },
  {
   "cell_type": "code",
   "execution_count": 21,
   "metadata": {},
   "outputs": [],
   "source": [
    "store_data = X_test[X_test['Store'] == 144]\n",
    "dmatrix = xgb.DMatrix(store_data, enable_categorical=True)"
   ]
  },
  {
   "cell_type": "code",
   "execution_count": 22,
   "metadata": {},
   "outputs": [
    {
     "name": "stdout",
     "output_type": "stream",
     "text": [
      "XGBoost Model erfolgreich geladen\n"
     ]
    }
   ],
   "source": [
    "model = load_model()"
   ]
  },
  {
   "cell_type": "code",
   "execution_count": 23,
   "metadata": {},
   "outputs": [
    {
     "name": "stdout",
     "output_type": "stream",
     "text": [
      "[8.616707  9.134683  8.95622   8.967396  9.003748  9.051197  8.593282\n",
      " 8.748238  8.697527  8.666334  8.689075  8.812992  8.473973  9.199252\n",
      " 9.1237335 9.022075  9.061629  8.933664  8.624006  8.91811   8.841375\n",
      " 8.799709  8.799153  8.954138  8.628993  9.218123  8.981782  9.007857\n",
      " 9.018217  9.015262  8.616912  8.934781  8.856712  8.80793   8.80798\n",
      " 8.902411  8.617696  9.264584  9.035755  9.069745  9.102515  9.136642 ]\n"
     ]
    }
   ],
   "source": [
    "prediction = model.predict(dmatrix)\n",
    "print(prediction)"
   ]
  }
 ],
 "metadata": {
  "kernelspec": {
   "display_name": "Masterarbeit",
   "language": "python",
   "name": "python3"
  },
  "language_info": {
   "codemirror_mode": {
    "name": "ipython",
    "version": 3
   },
   "file_extension": ".py",
   "mimetype": "text/x-python",
   "name": "python",
   "nbconvert_exporter": "python",
   "pygments_lexer": "ipython3",
   "version": "3.9.16"
  }
 },
 "nbformat": 4,
 "nbformat_minor": 2
}
